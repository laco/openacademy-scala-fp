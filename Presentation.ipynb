{
 "cells": [
  {
   "cell_type": "markdown",
   "metadata": {
    "slideshow": {
     "slide_type": "slide"
    }
   },
   "source": [
    "# Functional Programming Basics in Scala"
   ]
  },
  {
   "cell_type": "code",
   "execution_count": 18,
   "metadata": {
    "slideshow": {
     "slide_type": "fragment"
    }
   },
   "outputs": [
    {
     "data": {
      "text/plain": [
       "\u001b[36mintro\u001b[39m: \u001b[32mList\u001b[39m[\u001b[32mString\u001b[39m] = \u001b[33mList\u001b[39m(\u001b[32m\"Hello OpenAcademy!\"\u001b[39m, \u001b[32m\"Andrási László\"\u001b[39m, \u001b[32m\"Lead Dev at Balabit/OneIdentity\"\u001b[39m)"
      ]
     },
     "execution_count": 18,
     "metadata": {},
     "output_type": "execute_result"
    }
   ],
   "source": [
    "val intro: List[String] = List(\"Hello OpenAcademy!\", \"Andrási László\", \"Lead Dev at Balabit/OneIdentity\")"
   ]
  },
  {
   "cell_type": "code",
   "execution_count": 20,
   "metadata": {
    "slideshow": {
     "slide_type": "slide"
    }
   },
   "outputs": [
    {
     "name": "stdout",
     "output_type": "stream",
     "text": [
      "Hello OpenAcademy!\n",
      "Andrási László\n",
      "Lead Dev at Balabit/OneIdentity\n"
     ]
    },
    {
     "data": {
      "text/plain": [
       "\u001b[36mres19\u001b[39m: \u001b[32mList\u001b[39m[\u001b[32mUnit\u001b[39m] = \u001b[33mList\u001b[39m(\u001b[32m()\u001b[39m, \u001b[32m()\u001b[39m, \u001b[32m()\u001b[39m)"
      ]
     },
     "execution_count": 20,
     "metadata": {},
     "output_type": "execute_result"
    }
   ],
   "source": [
    "for (s <- intro)\n",
    "yield {\n",
    "  println(s)\n",
    "  Thread.sleep(1000)\n",
    "}"
   ]
  },
  {
   "cell_type": "markdown",
   "metadata": {
    "slideshow": {
     "slide_type": "slide"
    }
   },
   "source": [
    "### Section 1 - Setup\n",
    "\n",
    "### Section 2 - Intro to Scala\n",
    "\n",
    "### Break\n",
    "\n",
    "### Section 3 - Intro to FP\n",
    "\n",
    "### Section 4 - Case classes & pattern matching\n"
   ]
  },
  {
   "cell_type": "code",
   "execution_count": 21,
   "metadata": {
    "slideshow": {
     "slide_type": "slide"
    }
   },
   "outputs": [
    {
     "data": {
      "text/plain": [
       "defined \u001b[32mfunction\u001b[39m \u001b[36mpyramid\u001b[39m"
      ]
     },
     "execution_count": 21,
     "metadata": {},
     "output_type": "execute_result"
    }
   ],
   "source": [
    "def pyramid(ch: Char): String = (for {c <- 'A' to ch} yield c.toString) mkString \"\""
   ]
  },
  {
   "cell_type": "code",
   "execution_count": 22,
   "metadata": {
    "slideshow": {
     "slide_type": "slide"
    }
   },
   "outputs": [
    {
     "data": {
      "text/plain": [
       "\u001b[36mres21\u001b[39m: \u001b[32mString\u001b[39m = \u001b[32m\"ABC\"\u001b[39m"
      ]
     },
     "execution_count": 22,
     "metadata": {},
     "output_type": "execute_result"
    }
   ],
   "source": [
    "pyramid('C')"
   ]
  },
  {
   "cell_type": "markdown",
   "metadata": {
    "slideshow": {
     "slide_type": "slide"
    }
   },
   "source": [
    "## Section 1 - Setup\n",
    "\n",
    "0. Setup the environment (java8, sbt, editor, workshop project from github)\n",
    "0. Run the Scala interpreter\n",
    "0. Write some simple expressions\n"
   ]
  },
  {
   "cell_type": "markdown",
   "metadata": {
    "slideshow": {
     "slide_type": "subslide"
    }
   },
   "source": [
    "## Download sbt\n",
    "\n",
    "https://www.scala-sbt.org/\n",
    "\n",
    "## Type `sbt console`\n",
    "\n",
    "(Pro Tipp, checkout https://sdkman.io/ for unix)"
   ]
  },
  {
   "cell_type": "markdown",
   "metadata": {
    "slideshow": {
     "slide_type": "slide"
    }
   },
   "source": [
    "## Section 2 - Intro to Scala\n",
    "1. Basic language constructs\n",
    "  1. calling methods without parentesis or dot\n",
    "  1. Objects, Classes, Traits Body is the contructor\n",
    "  1. Define methods, functions\n",
    "  1. Assigning values to variables (`val`, `var`)\n",
    "  1. `if` expression\n",
    "  1. `for yield`\n",
    "2. A tour in the frequently used language features\n"
   ]
  },
  {
   "cell_type": "code",
   "execution_count": null,
   "metadata": {},
   "outputs": [],
   "source": []
  },
  {
   "cell_type": "markdown",
   "metadata": {
    "slideshow": {
     "slide_type": "slide"
    }
   },
   "source": [
    "## Section 3 - Intro to FP\n",
    "0. Functional thinking\n",
    "0. Solving problems with pure functions\n"
   ]
  },
  {
   "cell_type": "markdown",
   "metadata": {
    "slideshow": {
     "slide_type": "slide"
    }
   },
   "source": [
    "## Section 4 - Case classes & pattern matching\n",
    "0. Algebraic data types (case classes)\n",
    "0. Pattern matching\n"
   ]
  },
  {
   "cell_type": "code",
   "execution_count": null,
   "metadata": {},
   "outputs": [],
   "source": []
  }
 ],
 "metadata": {
  "celltoolbar": "Slideshow",
  "kernelspec": {
   "display_name": "Scala",
   "language": "scala",
   "name": "scala"
  },
  "language_info": {
   "codemirror_mode": "text/x-scala",
   "file_extension": ".scala",
   "mimetype": "text/x-scala",
   "name": "scala212",
   "nbconvert_exporter": "script",
   "pygments_lexer": "scala",
   "version": "2.12.2"
  }
 },
 "nbformat": 4,
 "nbformat_minor": 2
}
