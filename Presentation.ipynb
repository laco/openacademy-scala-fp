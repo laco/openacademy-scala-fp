{
 "cells": [
  {
   "cell_type": "markdown",
   "metadata": {
    "slideshow": {
     "slide_type": "slide"
    }
   },
   "source": [
    "# Functional Programming Basics in Scala"
   ]
  },
  {
   "cell_type": "code",
   "execution_count": null,
   "metadata": {
    "slideshow": {
     "slide_type": "fragment"
    }
   },
   "outputs": [],
   "source": [
    "val intro: List[String] = List(\"Hello OpenAcademy!\", \"Andrási László\", \"Lead Dev at Balabit/OneIdentity\")"
   ]
  },
  {
   "cell_type": "code",
   "execution_count": null,
   "metadata": {
    "slideshow": {
     "slide_type": "slide"
    }
   },
   "outputs": [],
   "source": [
    "for (s <- intro)\n",
    "{\n",
    "  println(s)\n",
    "  Thread.sleep(2000)\n",
    "}"
   ]
  },
  {
   "cell_type": "markdown",
   "metadata": {
    "slideshow": {
     "slide_type": "slide"
    }
   },
   "source": [
    "### Section 1 - Setup\n",
    "\n",
    "### Section 2 - Intro to Scala\n",
    "\n",
    "### Break\n",
    "\n",
    "### Section 3 - Intro to FP\n",
    "\n",
    "### Section 4 - Case classes & pattern matching\n"
   ]
  },
  {
   "cell_type": "markdown",
   "metadata": {
    "slideshow": {
     "slide_type": "slide"
    }
   },
   "source": [
    "## Section 1 - Setup\n",
    "\n",
    "0. Setup the environment (java8, sbt, editor, workshop project from github)\n",
    "0. Run the Scala interpreter\n",
    "0. Write some simple expressions\n"
   ]
  },
  {
   "cell_type": "markdown",
   "metadata": {
    "slideshow": {
     "slide_type": "subslide"
    }
   },
   "source": [
    "## Download sbt\n",
    "\n",
    "https://www.scala-sbt.org/\n",
    "\n",
    "## Type `sbt console`\n",
    "\n",
    "(Pro Tipp, checkout https://sdkman.io/ for unix)"
   ]
  },
  {
   "cell_type": "markdown",
   "metadata": {
    "slideshow": {
     "slide_type": "slide"
    }
   },
   "source": [
    "## Section 2 - Intro to Scala\n",
    "1. Basic language constructs\n",
    "  1. calling methods without parentesis or dot\n",
    "  1. Objects, Classes, Traits Body is the contructor\n",
    "  1. Define methods, functions\n",
    "  1. Assigning values to variables (`val`, `var`)\n",
    "  1. `if` expression\n",
    "  1. `for yield`\n",
    "2. A tour in the frequently used language features\n"
   ]
  },
  {
   "cell_type": "code",
   "execution_count": null,
   "metadata": {
    "slideshow": {
     "slide_type": "subslide"
    }
   },
   "outputs": [],
   "source": [
    "object HelloWorld1 extends App {\n",
    "  println(\"Hello world!\") // Print a fine message to the user!\n",
    "}\n",
    "\n",
    "\n",
    "object HelloWorld2 {\n",
    "  def main(args: Array[String]): Unit = {\n",
    "    println(\"Hello world!\")\n",
    "  }\n",
    "}\n"
   ]
  },
  {
   "cell_type": "code",
   "execution_count": null,
   "metadata": {
    "slideshow": {
     "slide_type": "subslide"
    }
   },
   "outputs": [],
   "source": [
    "1.+(1)\n",
    "\n",
    "1 + 1\n",
    "\n",
    "\"Balabit\".toUpperCase\n",
    "\"Balabit\".toUpperCase()\n",
    "\"Balabit\" toUpperCase\n",
    "\n",
    "// 2.toUpperCase\n",
    "\n",
    "// 2 / 0  // oh no! a zero division exception\n",
    "\n",
    "\"3\".toInt\n",
    "\n",
    "// \"foo\".toInt\n",
    "\n",
    "\"abcdef\".take(3)\n"
   ]
  },
  {
   "cell_type": "code",
   "execution_count": null,
   "metadata": {
    "slideshow": {
     "slide_type": "subslide"
    }
   },
   "outputs": [],
   "source": [
    "object TheMostUselessObjectEver\n",
    "\n",
    "object SampleObject {\n",
    "  val sampleField: Int = 10\n",
    "  var changeMe: String = \"OK\"\n",
    "\n",
    "  def sampleMethod(): Unit = {\n",
    "    println(\"nothing to do here\")\n",
    "  }\n",
    "\n",
    "  def add(x: Int, y: Int): Int = {\n",
    "    x + y  // no return statement required\n",
    "  }\n",
    "\n",
    "  override def toString: String = s\"My state is: $sampleField and $changeMe\"\n",
    "}\n"
   ]
  },
  {
   "cell_type": "code",
   "execution_count": null,
   "metadata": {
    "slideshow": {
     "slide_type": "subslide"
    }
   },
   "outputs": [],
   "source": [
    " \n",
    "/* access object methods and fields */\n",
    "\n",
    "println(SampleObject.sampleField)\n",
    "SampleObject.sampleMethod()\n",
    "SampleObject.sampleMethod\n",
    "\n",
    "println(SampleObject)\n",
    "SampleObject.changeMe = \"NOT OK\"\n",
    "println(SampleObject)\n",
    "\n",
    "println(SampleObject.add(2, 2))\n"
   ]
  },
  {
   "cell_type": "code",
   "execution_count": null,
   "metadata": {
    "slideshow": {
     "slide_type": "subslide"
    }
   },
   "outputs": [],
   "source": [
    "object SampleCallableObject  {\n",
    "  val n1: List[Int] = List(1,2,3)\n",
    "  var n2: List[Int] = List(1,2,3)\n",
    "\n",
    "  def apply(): List[Int] = {\n",
    "    n1 ++ n2\n",
    "  }\n",
    "}\n",
    "\n",
    "SampleCallableObject()"
   ]
  },
  {
   "cell_type": "code",
   "execution_count": null,
   "metadata": {
    "slideshow": {
     "slide_type": "subslide"
    }
   },
   "outputs": [],
   "source": [
    "class ExampleClass\n",
    "\n",
    "class Example2Class () {\n",
    "  def foo = \"bar\"\n",
    "  val baz = \"yol\"\n",
    "  var p = \"one\"\n",
    "}\n",
    "\n",
    "val e = new Example2Class\n",
    "e.foo"
   ]
  },
  {
   "cell_type": "code",
   "execution_count": null,
   "metadata": {
    "slideshow": {
     "slide_type": "subslide"
    }
   },
   "outputs": [],
   "source": [
    "class Director(val firstName: String,\n",
    "               val lastName: String,\n",
    "               val yearOfBirth: Int) {\n",
    "\n",
    "  def name: String =\n",
    "    s\"$firstName $lastName\"\n",
    "\n",
    "  def copy(\n",
    "            firstName: String = this.firstName,\n",
    "            lastName: String = this.lastName,\n",
    "            yearOfBirth: Int = this.yearOfBirth): Director =\n",
    "    new Director(firstName, lastName, yearOfBirth)\n",
    "}"
   ]
  },
  {
   "cell_type": "code",
   "execution_count": null,
   "metadata": {
    "slideshow": {
     "slide_type": "subslide"
    }
   },
   "outputs": [],
   "source": [
    "class Film(\n",
    "            val name: String,\n",
    "            val yearOfRelease: Int,\n",
    "            val imdbRating: Double,\n",
    "            val director: Director) {\n",
    "  def directorsAge =\n",
    "    yearOfRelease - director.yearOfBirth\n",
    "\n",
    "  def isDirectedBy(director: Director) =\n",
    "    this.director == director\n",
    "\n",
    "  def copy(\n",
    "            name: String = this.name,\n",
    "            yearOfRelease: Int = this.yearOfRelease,\n",
    "            imdbRating: Double = this.imdbRating,\n",
    "            director: Director = this.director): Film =\n",
    "    new Film(name, yearOfRelease, imdbRating, director)\n",
    "}"
   ]
  },
  {
   "cell_type": "code",
   "execution_count": null,
   "metadata": {
    "slideshow": {
     "slide_type": "subslide"
    }
   },
   "outputs": [],
   "source": [
    "  val eastwood = new Director(\"Clint\", \"Eastwood\", 1930)\n",
    "  val mcTiernan = new Director(\"John\", \"McTiernan\", 1951)\n",
    "  val nolan = new Director(\"Christopher\", \"Nolan\", 1970)\n",
    "  val someBody = new Director(\"Just\", \"Some Body\", 1990)\n",
    "  val memento = new Film(\"Memento\", 2000, 8.5, nolan)\n",
    "  val darkKnight = new Film(\"Dark Knight\", 2008, 9.0, nolan)\n",
    "  val inception = new Film(\"Inception\", 2010, 8.8, nolan)\n",
    "  val highPlainsDrifter = new Film(\"High Plains Drifter\", 1973, 7.7, eastwood)\n",
    "  val outlawJoseyWales = new Film(\"The Outlaw Josey Wales\", 1976, 7.9, eastwood)\n",
    "  val unforgiven = new Film(\"Unforgiven\", 1992, 8.3, eastwood)\n",
    "  val granTorino = new Film(\"Gran Torino\", 2008, 8.2, eastwood)\n",
    "  val invictus = new Film(\"Invictus\", 2009, 7.4, eastwood)\n",
    "  val predator = new Film(\"Predator\", 1987, 7.9, mcTiernan)\n",
    "  val dieHard = new Film(\"Die Hard\", 1988, 8.3, mcTiernan)\n",
    "  val huntForRedOctober = new Film(\"The Hunt for Red October\", 1990, 7.6, mcTiernan)\n",
    "  val thomasCrownAffair = new Film(\"The Thomas Crown Affair\", 1999, 6.8, mcTiernan)\n",
    "\n",
    "  assert(eastwood.yearOfBirth == 1930) // should be 1930\n",
    "  assert(dieHard.director.name == \"John McTiernan\") // should be \"John McTiernan\"\n",
    "  assert(!invictus.isDirectedBy(nolan)) // should be false\n",
    "\n",
    "  val l = highPlainsDrifter.copy(name = \"L'homme des hautes plaines\")\n",
    "  // returns Film(\"L'homme des hautes plaines\", 1973, 7.7, /* etc */)\n",
    "  val l1 =thomasCrownAffair.copy(yearOfRelease = 1968,\n",
    "    director = new Director(\"Norman\", \"Jewison\", 1926))\n",
    "  // returns Film(\"The Thomas Crown Affair\", 1926, /* etc */)\n",
    "\n",
    "  val l2 = inception.copy().copy().copy()\n",
    "  // returns a new copy of `inception`\n"
   ]
  },
  {
   "cell_type": "code",
   "execution_count": null,
   "metadata": {
    "slideshow": {
     "slide_type": "subslide"
    }
   },
   "outputs": [],
   "source": [
    "class Counter(val count: Int) {\n",
    "  def dec = new Counter(count - 1)\n",
    "  def inc = new Counter(count + 1)\n",
    "}\n",
    "\n",
    "\n",
    "class CounterFast(val count: Int) {\n",
    "  def dec(amount: Int = 1) = new CounterFast(count - amount)\n",
    "  def inc(amount: Int = 1) = new CounterFast(count + amount)\n",
    "}\n",
    "\n",
    "\n",
    "class CounterFast2(val count: Int) {\n",
    "  def dec: CounterFast2 = dec()\n",
    "  def inc: CounterFast2 = inc()\n",
    "  def dec(amount: Int = 1): CounterFast2 = new CounterFast2(count - amount)\n",
    "  def inc(amount: Int = 1): CounterFast2 = new CounterFast2(count + amount)\n",
    "}\n",
    "\n",
    "assert(new Counter(10).inc.dec.inc.inc.count == 12)\n",
    "assert(new CounterFast(10).inc().inc(10).count == 21)\n",
    "assert(new CounterFast2(10).inc.inc(10).count == 21)"
   ]
  },
  {
   "cell_type": "code",
   "execution_count": null,
   "metadata": {
    "slideshow": {
     "slide_type": "subslide"
    }
   },
   "outputs": [],
   "source": [
    "class BaseClass(val baseProperty: String) {\n",
    "  override def toString: String = \"basetoString\"\n",
    "}\n",
    "\n",
    "\n",
    "class ChildClass(val childProperty: String) extends BaseClass(\"foo\") {\n",
    "  override def toString: String = baseProperty + \" \" + childProperty\n",
    "}\n",
    "\n",
    "\n",
    "object ChildObject extends BaseClass(\"baz\") {\n",
    "  override def toString: String = super.toString\n",
    "}\n",
    "\n",
    "val o = new ChildClass(\"bar\")\n",
    "assert(o.toString == \"foo bar\")\n",
    "assert(ChildObject.toString == \"basetoString\")\n",
    "\n"
   ]
  },
  {
   "cell_type": "code",
   "execution_count": null,
   "metadata": {
    "slideshow": {
     "slide_type": "subslide"
    }
   },
   "outputs": [],
   "source": [
    "trait Shape {\n",
    "  def sides: Int\n",
    "  def perimeter: Double\n",
    "  def area: Double\n",
    "}\n",
    "\n",
    "class Circle(radius: Double) extends Shape {\n",
    "  val sides = 1\n",
    "  val perimeter = 2 * math.Pi * radius\n",
    "  val area = math.Pi * radius * radius\n",
    "}\n",
    "\n",
    "class Rectangle(width: Double, height: Double) extends Shape {\n",
    "  val sides = 4\n",
    "  val perimeter = 2 * width + 2 * height\n",
    "  val area = width * height\n",
    "}\n",
    "\n",
    "new Circle(1.0).area"
   ]
  },
  {
   "cell_type": "code",
   "execution_count": null,
   "metadata": {
    "slideshow": {
     "slide_type": "subslide"
    }
   },
   "outputs": [],
   "source": [
    "trait canDance {\n",
    "  def dance() = {\n",
    "    println(\"I'm dancing\")\n",
    "  }\n",
    "}\n",
    "\n",
    "trait canWalk {\n",
    "  var walkedSteps: Int = 0\n",
    "  def walk(steps: Int) = {\n",
    "    walkedSteps += steps\n",
    "  }\n",
    "}\n",
    "\n",
    "\n",
    "trait canTalk {\n",
    "  def talk(sentence: String): Unit = {\n",
    "    println(s\"I say: ${sentence}\")\n",
    "  }\n",
    "}\n",
    "\n",
    "trait canSing {\n",
    "  def sing(sentence: String): Unit = {\n",
    "    println(s\"I sing: ${sentence}\")\n",
    "  }\n",
    "}\n"
   ]
  },
  {
   "cell_type": "code",
   "execution_count": null,
   "metadata": {
    "slideshow": {
     "slide_type": "subslide"
    }
   },
   "outputs": [],
   "source": [
    "class People(val name: String)\n",
    "\n",
    "class Dancer(override val name: String) extends People(name) with canDance with canWalk\n",
    "\n",
    "class Singer(override val name: String) extends People(name) with canTalk with canSing\n",
    "\n",
    "object PhilCollins extends People(\"Phil Collins\") with canDance with canWalk with canTalk with canSing {\n",
    "  def justStanding = true\n",
    "  def sellingEverything = true\n",
    "}\n",
    "\n",
    "PhilCollins.walk(10)\n",
    "PhilCollins.sing(\"I can't sing.\")\n"
   ]
  },
  {
   "cell_type": "code",
   "execution_count": null,
   "metadata": {
    "slideshow": {
     "slide_type": "subslide"
    }
   },
   "outputs": [],
   "source": [
    "class MyStringBox(private val s: String) {\n",
    "  override val toString: String = s\n",
    "}\n",
    "\n",
    "\n",
    "object MyStringBox {\n",
    "  def toUpperCase(m: MyStringBox): MyStringBox = new MyStringBox(m.s.toUpperCase())\n",
    "\n",
    "}\n",
    "\n",
    "val m1 = new MyStringBox(\"abcd\")\n",
    "val m1Upper = MyStringBox.toUpperCase(m1) // companion objects can access private members\n",
    "\n",
    "assert(m1Upper.toString == \"ABCD\")\n"
   ]
  },
  {
   "cell_type": "code",
   "execution_count": null,
   "metadata": {
    "slideshow": {
     "slide_type": "subslide"
    }
   },
   "outputs": [],
   "source": [
    "trait Blog {\n",
    "    def showLength()\n",
    "    override def toString: String\n",
    "}\n",
    "\n",
    "object Blog {\n",
    "   def apply(article: String) : Blog = new BlogImpl(article)\n",
    "\n",
    "   private class BlogImpl(private val article:String) extends Blog {\n",
    "     def showLength() = article.length\n",
    "     override def toString: String = article\n",
    "   }\n",
    "}\n",
    "\n",
    "var myBlog = Blog(\"Hello, hello!\")  // no \"new\" keyword here?!\n",
    "println(myBlog.showLength())"
   ]
  },
  {
   "cell_type": "code",
   "execution_count": null,
   "metadata": {
    "slideshow": {
     "slide_type": "subslide"
    }
   },
   "outputs": [],
   "source": [
    "case class Person(firstName: String, lastName: String)\n",
    "case class MutablePerson(var firstName: String, var lastName: String)\n",
    "\n",
    "val bud = Person(\"Bud\", \"Spencer\")\n",
    "val terence = MutablePerson(\"Terence\", \"Hill\")\n",
    "\n",
    "terence.firstName = \"Zsugabubus\" // call to a mutator\n",
    "\n",
    "val charlie = bud.copy(firstName = \"Charlie\", lastName= \"Firpo\")\n"
   ]
  },
  {
   "cell_type": "markdown",
   "metadata": {
    "slideshow": {
     "slide_type": "slide"
    }
   },
   "source": [
    "## Section 3 - Intro to FP\n",
    "0. Functional thinking\n",
    "0. Solving problems with pure functions\n"
   ]
  },
  {
   "cell_type": "code",
   "execution_count": null,
   "metadata": {
    "slideshow": {
     "slide_type": "subslide"
    }
   },
   "outputs": [],
   "source": [
    "\n",
    "def foo(n: Int, v: Int) =\n",
    "   for (i <- 0 until n;\n",
    "        j <- i until n if i + j == v)\n",
    "   println(s\"($i, $j)\")\n",
    "\n",
    "\n",
    "def foo2(n: Int, v: Int) =\n",
    "   for (i <- 0 until n;\n",
    "        j <- i until n if i + j == v)\n",
    "   yield (i,j)\n",
    "\n",
    "\n",
    "foo(10, 10)\n",
    "println\n",
    "foo2(10, 10).foreach { case (i: Int, j: Int) => println(s\"($i, $j)\") }\n",
    "\n"
   ]
  },
  {
   "cell_type": "code",
   "execution_count": null,
   "metadata": {
    "slideshow": {
     "slide_type": "subslide"
    }
   },
   "outputs": [],
   "source": [
    "// Exercise: Write a letterPyramid function\n",
    "\n",
    "def letterPyramid(ch: Char): String = ???\n",
    "\n",
    "/*\n",
    "letterPyramid('A') == \"A\"\n",
    "letterPyramid('C') == \"\"\"  A\n",
    "                        | ABA\n",
    "                        |ABCBA\"\"\".stripMargin\n",
    "\n",
    "*/\n",
    "\n",
    "// some help\n",
    "def previousChar(ch: Char): Char = (ch.toInt - 1).toChar\n",
    "def makePadding(padding: Int): String = \" \" * padding\n",
    "\"  \" + \"A\" + \"\\n\" + \"B\"\n",
    "('A' to 'C').mkString\n"
   ]
  },
  {
   "cell_type": "code",
   "execution_count": null,
   "metadata": {
    "slideshow": {
     "slide_type": "subslide"
    }
   },
   "outputs": [],
   "source": [
    "def letterPyramid(ch: Char): String = {\n",
    "  def previousChar(ch: Char): Char = (ch.toInt - 1).toChar\n",
    "  def makePadding(padding: Int): String = \" \" * padding\n",
    "\n",
    "  def letterRow(ch: Char, padding: Int = 0) = {\n",
    "    makePadding(padding) + ('A' to ch).mkString + ('A' to previousChar(ch)).mkString.reverse\n",
    "  }\n",
    "\n",
    "  def letterPyramidWithPadding(ch: Char, padding: Int=0): String = {\n",
    "    if (ch == 'A') makePadding(padding) + \"A\"\n",
    "    else letterPyramidWithPadding(previousChar(ch), padding + 1) + \"\\n\" + letterRow(ch, padding)\n",
    "  }\n",
    "  letterPyramidWithPadding(ch ,0)\n",
    "}\n",
    "\n",
    "letterPyramid('A') == \"A\"\n",
    "letterPyramid('C') == \"\"\"  A\n",
    "                        | ABA\n",
    "                        |ABCBA\"\"\".stripMargin\n",
    "letterPyramid('K')"
   ]
  },
  {
   "cell_type": "code",
   "execution_count": null,
   "metadata": {
    "slideshow": {
     "slide_type": "subslide"
    }
   },
   "outputs": [],
   "source": [
    "val l = List(1, 2, 3)\n",
    "\n",
    "// Imperative style\n",
    "def sum0(xs: List[Int]): Int = {\n",
    "  var s : Int = 0\n",
    "  for { x <- xs } { s += x }\n",
    "  s\n",
    "}\n",
    "\n",
    "// Functional style\n",
    "def sum1(xs: List[Int]): Int = {\n",
    "    if (xs.isEmpty) 0\n",
    "    else xs.head + sum1(xs.tail)\n",
    "}\n",
    "\n",
    "(sum0(l), sum1(l))\n"
   ]
  },
  {
   "cell_type": "code",
   "execution_count": null,
   "metadata": {
    "slideshow": {
     "slide_type": "subslide"
    }
   },
   "outputs": [],
   "source": [
    "Nil == List()\n",
    "1:: Nil == List(1)\n",
    "1 :: 2 :: Nil == List(1, 2)"
   ]
  },
  {
   "cell_type": "code",
   "execution_count": null,
   "metadata": {
    "slideshow": {
     "slide_type": "subslide"
    }
   },
   "outputs": [],
   "source": [
    "def sum2(xs: List[Int]): Int = xs match {\n",
    "  case Nil => 0\n",
    "  case h :: t => h + sum2(t)\n",
    "}\n",
    "\n",
    "sum2(l)"
   ]
  },
  {
   "cell_type": "code",
   "execution_count": null,
   "metadata": {
    "slideshow": {
     "slide_type": "subslide"
    }
   },
   "outputs": [],
   "source": [
    "import scala.annotation.tailrec\n",
    "\n",
    "def sum3(xs: List[Int]): Int = {\n",
    "    @tailrec\n",
    "    def sumAcc(xs: List[Int], accum: Int): Int = {\n",
    "      xs match {\n",
    "        case Nil => accum\n",
    "        case h :: t => sumAcc(t, accum + h)\n",
    "      }\n",
    "    }\n",
    "    sumAcc(xs, 0)\n",
    "  }\n",
    "\n",
    "sum3(l)"
   ]
  },
  {
   "cell_type": "code",
   "execution_count": null,
   "metadata": {
    "slideshow": {
     "slide_type": "subslide"
    }
   },
   "outputs": [],
   "source": [
    "// Exercise: Write a prod function \n",
    "\n",
    "def prod(xs: List[Int]): Int = ???\n",
    "\n",
    "\n",
    "// prod(List(1, 2, 3, 4)) == 24"
   ]
  },
  {
   "cell_type": "code",
   "execution_count": null,
   "metadata": {
    "slideshow": {
     "slide_type": "subslide"
    }
   },
   "outputs": [],
   "source": [
    "def prod3(xs: List[Int]): Int = {\n",
    "    @tailrec\n",
    "    def prodAcc(xs: List[Int], accum: Int): Int = {\n",
    "      xs match {\n",
    "        case Nil => accum\n",
    "        case h :: t => prodAcc(t, accum * h)\n",
    "      }\n",
    "    }\n",
    "    prodAcc(xs, 1)\n",
    "  }\n"
   ]
  },
  {
   "cell_type": "code",
   "execution_count": null,
   "metadata": {
    "slideshow": {
     "slide_type": "subslide"
    }
   },
   "outputs": [],
   "source": [
    "def sum3(xs: List[Int]): Int = {\n",
    "    @tailrec\n",
    "    def sumAcc(xs: List[Int], accum: Int): Int = {\n",
    "      xs match {\n",
    "        case Nil => accum\n",
    "        case h :: t => sumAcc(t, accum + h)\n",
    "      }\n",
    "    }\n",
    "    sumAcc(xs, 0)\n",
    "  }\n",
    "\n",
    "def prod3(xs: List[Int]): Int = {\n",
    "    @tailrec\n",
    "    def prodAcc(xs: List[Int], accum: Int): Int = {\n",
    "      xs match {\n",
    "        case Nil => accum\n",
    "        case h :: t => prodAcc(t, accum * h)\n",
    "      }\n",
    "    }\n",
    "    prodAcc(xs, 1)\n",
    "  }\n",
    "\n"
   ]
  },
  {
   "cell_type": "code",
   "execution_count": null,
   "metadata": {
    "slideshow": {
     "slide_type": "subslide"
    }
   },
   "outputs": [],
   "source": [
    "def fold(zero: Int, fn: (Int, Int) => Int)(xs: List[Int]) : Int = {\n",
    "   def inner(xs: List[Int], acc: Int): Int = {\n",
    "     xs match {\n",
    "       case Nil => acc\n",
    "       case h :: t => inner(t, fn(acc,h))\n",
    "     }\n",
    "   }\n",
    "  inner(xs, zero)\n",
    "} \n",
    "\n",
    "fold(0, _ + _)(List(1, 2, 3))\n",
    "val sum4 = fold(0, _ + _) _\n",
    "val prod4 = fold(1, _ * _) _\n",
    "\n",
    "sum4(List(1, 2, 3, 4))\n",
    "prod4(List(1, 2, 3, 4))"
   ]
  },
  {
   "cell_type": "code",
   "execution_count": null,
   "metadata": {
    "slideshow": {
     "slide_type": "subslide"
    }
   },
   "outputs": [],
   "source": [
    "def fun(a: List[Int]) = a match {\n",
    "    case List(0, p, q) => p + q\n",
    "    case _ => -1\n",
    "  }\n",
    "\n",
    "println(fun(List(0, 10, 20)))\n",
    "println(fun(List(0, 1, 2, 3)))\n",
    "println(fun(List(1, 10, 20)))\n",
    "println(fun(List()))\n"
   ]
  },
  {
   "cell_type": "code",
   "execution_count": null,
   "metadata": {
    "slideshow": {
     "slide_type": "subslide"
    }
   },
   "outputs": [],
   "source": [
    "\n",
    "\n",
    "\n",
    "\n"
   ]
  },
  {
   "cell_type": "markdown",
   "metadata": {
    "slideshow": {
     "slide_type": "slide"
    }
   },
   "source": [
    "## Section 4 - Case classes & pattern matching\n",
    "0. Algebraic data types (case classes)\n",
    "0. Pattern matching\n"
   ]
  },
  {
   "cell_type": "code",
   "execution_count": null,
   "metadata": {
    "slideshow": {
     "slide_type": "subslide"
    }
   },
   "outputs": [],
   "source": [
    "class Person(val name: String, age: Int, socialSecurityNumber: Long) {\n",
    "  import Person._\n",
    "    \n",
    "  val isPensioner: Boolean = age >= 65\n",
    "    \n",
    "  lazy val hasValidSSN: Boolean = longLastingQueryOfDatabase(socialSecurityNumber)\n",
    "}\n",
    "\n",
    "object Person {\n",
    "  def longLastingQueryOfDatabase(ssn: Long): Boolean = {\n",
    "    // insert long code here\n",
    "    ???\n",
    "  }\n",
    "}"
   ]
  },
  {
   "cell_type": "code",
   "execution_count": null,
   "metadata": {
    "slideshow": {
     "slide_type": "subslide"
    }
   },
   "outputs": [],
   "source": [
    "val p1 = new Person(\"John\", 50, 123456789L)\n",
    "val p2 = new Person(\"John\", 50, 123456789L)\n",
    "println(p1)\n",
    "println(p2 == p1)\n",
    "println(Set(p1, p2).size)"
   ]
  },
  {
   "cell_type": "code",
   "execution_count": null,
   "metadata": {
    "slideshow": {
     "slide_type": "subslide"
    }
   },
   "outputs": [],
   "source": [
    "case class Person(name: String, age: Int, socialSecurityNumber: Long) {\n",
    "  import Person._\n",
    "    \n",
    "  val isPensioner: Boolean = age >= 65\n",
    "    \n",
    "  lazy val isValidSSN: Boolean = longLastringQueryOfDatabase(socialSecurityNumber)\n",
    "}\n",
    "\n",
    "object Person {\n",
    "  def longLastringQueryOfDatabase(ssn: Long): Boolean = ???\n",
    "}\n",
    "val p1 = Person(\"John\", 50, 123456789L)\n",
    "val p2 = Person(name = \"John\", age = 50, socialSecurityNumber = 123456789L)\n",
    "println(p1)\n",
    "println(p1 == p2)\n",
    "println(Set(p1, p2).size)"
   ]
  },
  {
   "cell_type": "code",
   "execution_count": null,
   "metadata": {
    "slideshow": {
     "slide_type": "subslide"
    }
   },
   "outputs": [],
   "source": [
    "sealed abstract class Tree {\n",
    "  def isEmpty: Boolean\n",
    "}\n",
    "\n",
    "case class Node(value: Int, left: Tree, right: Tree) extends Tree {\n",
    "  def isEmpty: Boolean = false\n",
    "  \n",
    "  override def toString: String = value + left.toString + right.toString // preorder traversal\n",
    "}\n",
    "\n",
    "case object Empty extends Tree {\n",
    "  def isEmpty: Boolean = true\n",
    "  \n",
    "  override def toString: String = \".\"\n",
    "}"
   ]
  },
  {
   "cell_type": "code",
   "execution_count": null,
   "metadata": {
    "slideshow": {
     "slide_type": "subslide"
    }
   },
   "outputs": [],
   "source": [
    "val myTree: Tree = Node(5, \n",
    "                        Node(4, \n",
    "                             Node(1, Empty, Empty), \n",
    "                             Node(2, Empty, Empty)), \n",
    "                        Node(6, Empty, Empty))\n",
    "println(myTree)"
   ]
  },
  {
   "cell_type": "markdown",
   "metadata": {
    "slideshow": {
     "slide_type": "subslide"
    }
   },
   "source": [
    "## Pattern matching\n",
    "\n",
    " - syntax: selector match { alternatives }\n",
    " - match is a switch on steroids\n",
    " - match is an expression, that is, it always results in a value\n",
    " - it does not fall-through\n",
    " - if none of the alternatives match, an MatchError exception will be thrown"
   ]
  },
  {
   "cell_type": "code",
   "execution_count": null,
   "metadata": {
    "slideshow": {
     "slide_type": "subslide"
    }
   },
   "outputs": [],
   "source": [
    "//  Constant patterns\n",
    "// Any literal can be used as a pattern. A constant pattern matches only with itself.\n",
    "def writeOutNumbers(x: Int): String = x match {\n",
    "  case 0 => \"zero\"\n",
    "  case 1 => \"one\"\n",
    "  case 2 => \"two\"\n",
    "  case _ => \"many (or maybe negative?)\"  // wildcard pattern\n",
    "}"
   ]
  },
  {
   "cell_type": "code",
   "execution_count": null,
   "metadata": {
    "slideshow": {
     "slide_type": "subslide"
    }
   },
   "outputs": [],
   "source": [
    "// Variable patterns\n",
    "// A variable pattern matches with any object, just like a wildcard!\n",
    "\n",
    "\"Joe\" match {\n",
    "  case x => println(x)\n",
    "  case _ => println(\"Other\")\n",
    "}"
   ]
  },
  {
   "cell_type": "code",
   "execution_count": null,
   "metadata": {
    "slideshow": {
     "slide_type": "subslide"
    }
   },
   "outputs": [],
   "source": [
    "val hello: String = \"Hello\"\n",
    "val ahoy: String = \"Ahoy\"\n",
    "\n",
    "\"Ahoy\" match {\n",
    "  case hello => println(\"You have made a mistake\")\n",
    "  case ahoy => println(\"Yes, it is\")\n",
    "  case _ => println(\"no idea what's going on\")\n",
    "}"
   ]
  },
  {
   "cell_type": "code",
   "execution_count": null,
   "metadata": {
    "slideshow": {
     "slide_type": "subslide"
    }
   },
   "outputs": [],
   "source": [
    "\"Ahoy\" match {\n",
    "  case `hello` => println(\"You have made a mistake\")\n",
    "  case `ahoy` => println(\"Yes, it is\")\n",
    "  case _ => println(\"no idea what's going on\")\n",
    "}"
   ]
  },
  {
   "cell_type": "markdown",
   "metadata": {
    "slideshow": {
     "slide_type": "subslide"
    }
   },
   "source": [
    "### Constructor patterns\n",
    "\n",
    "This provides deep matches inside case classes.\n"
   ]
  },
  {
   "cell_type": "code",
   "execution_count": null,
   "metadata": {
    "slideshow": {
     "slide_type": "subslide"
    }
   },
   "outputs": [],
   "source": [
    "sealed abstract class ProgrammingLanguage\n",
    "case object Scala extends ProgrammingLanguage \n",
    "case object Python extends ProgrammingLanguage\n",
    "case object COBOL extends ProgrammingLanguage\n",
    "case object Haskell extends ProgrammingLanguage\n",
    "case object Clojure extends ProgrammingLanguage"
   ]
  },
  {
   "cell_type": "code",
   "execution_count": null,
   "metadata": {
    "slideshow": {
     "slide_type": "subslide"
    }
   },
   "outputs": [],
   "source": [
    "sealed abstract class Employee {\n",
    "  val id: Int\n",
    "  val name: String\n",
    "  def greet: String = s\"Hello, $name!\"\n",
    "}\n",
    "\n",
    "case class CEO(id: Int, name: String, salary: Long) extends Employee {\n",
    "  override def greet: String = \"Yes, Master!\"\n",
    "}\n",
    "\n",
    "case class Engineer(id: Int,\n",
    "                    name: String,\n",
    "                    salary: Int,\n",
    "                    language: ProgrammingLanguage) extends Employee\n",
    "\n",
    "case class Trainee(id: Int, name: String, salary: Int, boss: Engineer) extends Employee {\n",
    "  override def greet: String = \"Hello, have you finished your task?\"\n",
    "}"
   ]
  },
  {
   "cell_type": "code",
   "execution_count": null,
   "metadata": {
    "slideshow": {
     "slide_type": "subslide"
    }
   },
   "outputs": [],
   "source": [
    "val joe: Engineer = Engineer(id = 11, name = \"Joe\", salary = 60000, language = Haskell)\n",
    "val bill: Employee = Trainee(id = 101, name = \"Bill\", salary = 10000, boss = joe)"
   ]
  },
  {
   "cell_type": "code",
   "execution_count": null,
   "metadata": {
    "slideshow": {
     "slide_type": "subslide"
    }
   },
   "outputs": [],
   "source": [
    "bill match {\n",
    "  case Trainee(_, \"Adam\", _, `joe`) => println(\"Bill is called Adam???\")\n",
    "  case Engineer(_, _, _, _) => println(\"Bill is an engineer???\") // there is a better way to match type\n",
    "  case Trainee(_, _, _, Engineer(_, _, _, Haskell)) => println(\"Bill's boss knows Haskell!!\")\n",
    "  case Trainee(_, \"Bill\", _, _) => println(\"Bill is Bill indeed.\")\n",
    "  case _ => println(\"No one knows who this guy is.\")\n",
    "}"
   ]
  },
  {
   "cell_type": "markdown",
   "metadata": {
    "slideshow": {
     "slide_type": "subslide"
    }
   },
   "source": [
    "### Other patterns\n",
    "\n",
    " - sequence patterns\n",
    " - typed patterns\n",
    " - variable binding inside a pattern match"
   ]
  },
  {
   "cell_type": "code",
   "execution_count": null,
   "metadata": {
    "slideshow": {
     "slide_type": "subslide"
    }
   },
   "outputs": [],
   "source": [
    "val list: List[Int] = List(1, 1, 3, 5, 8, 13)\n",
    "\n",
    "list match {\n",
    "  case Nil => println(\"The list is empty.\")\n",
    "  case x :: xs => println(s\"The head element is $x\")\n",
    "  // x :: xs means that the list has head element x and tail xs\n",
    "}\n",
    "\n",
    "list match {\n",
    "  case Nil => println(\"The list is empty.\")\n",
    "  case List(1, 2, 3, _*) => println(\"This list has length at least 3 starting with 1, 2 and 3.\")\n",
    "  case List(_, _, 3, _*) => println(\"The 3rd element is 3.\")\n",
    "  case _ => println(\"no match\")\n",
    "}"
   ]
  },
  {
   "cell_type": "code",
   "execution_count": null,
   "metadata": {
    "slideshow": {
     "slide_type": "subslide"
    }
   },
   "outputs": [],
   "source": [
    "bill match {\n",
    "  case e: Engineer => println(\"Bill is an engineer?\")\n",
    "  case t: Trainee => println(\"Bill is a trainee.\")\n",
    "  case _ => println(\"Maybe he is the new CEO?\")\n",
    "}"
   ]
  },
  {
   "cell_type": "code",
   "execution_count": null,
   "metadata": {
    "slideshow": {
     "slide_type": "subslide"
    }
   },
   "outputs": [],
   "source": [
    "// Pattern matches everywhere\n",
    "\n",
    "val Trainee(id, _, amount, _) = bill\n",
    "println(id)\n",
    "println(amount)\n",
    "\n",
    "val (a: Int, b: Int) = (0, 1)\n",
    "println(a)\n",
    "println(b)\n",
    "\n",
    "// and the list goes on and on ..."
   ]
  },
  {
   "cell_type": "code",
   "execution_count": null,
   "metadata": {
    "slideshow": {
     "slide_type": "subslide"
    }
   },
   "outputs": [],
   "source": [
    "val lst: List[Int] = List(1, 2, 5, 8)\n",
    "\n",
    "lst match {\n",
    "  case a: List[String] => println(\"this is a StringList\")\n",
    "  case b: List[Int] => println(\"this is an IntList\")\n",
    "}"
   ]
  },
  {
   "cell_type": "code",
   "execution_count": null,
   "metadata": {
    "slideshow": {
     "slide_type": "slide"
    }
   },
   "outputs": [],
   "source": [
    "\"Thx\""
   ]
  }
 ],
 "metadata": {
  "celltoolbar": "Slideshow",
  "kernelspec": {
   "display_name": "Scala",
   "language": "scala",
   "name": "scala"
  },
  "language_info": {
   "codemirror_mode": "text/x-scala",
   "file_extension": ".scala",
   "mimetype": "text/x-scala",
   "name": "scala212",
   "nbconvert_exporter": "script",
   "pygments_lexer": "scala",
   "version": "2.12.2"
  }
 },
 "nbformat": 4,
 "nbformat_minor": 2
}
