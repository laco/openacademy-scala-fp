{
 "cells": [
  {
   "cell_type": "markdown",
   "metadata": {
    "slideshow": {
     "slide_type": "slide"
    }
   },
   "source": [
    "# Functional Programming Basics in Scala"
   ]
  },
  {
   "cell_type": "code",
   "execution_count": 18,
   "metadata": {
    "slideshow": {
     "slide_type": "fragment"
    }
   },
   "outputs": [
    {
     "data": {
      "text/plain": [
       "\u001b[36mintro\u001b[39m: \u001b[32mList\u001b[39m[\u001b[32mString\u001b[39m] = \u001b[33mList\u001b[39m(\u001b[32m\"Hello OpenAcademy!\"\u001b[39m, \u001b[32m\"Andrási László\"\u001b[39m, \u001b[32m\"Lead Dev at Balabit/OneIdentity\"\u001b[39m)"
      ]
     },
     "execution_count": 18,
     "metadata": {},
     "output_type": "execute_result"
    }
   ],
   "source": [
    "val intro: List[String] = List(\"Hello OpenAcademy!\", \"Andrási László\", \"Lead Dev at Balabit/OneIdentity\")"
   ]
  },
  {
   "cell_type": "code",
   "execution_count": 20,
   "metadata": {
    "slideshow": {
     "slide_type": "slide"
    }
   },
   "outputs": [
    {
     "name": "stdout",
     "output_type": "stream",
     "text": [
      "Hello OpenAcademy!\n",
      "Andrási László\n",
      "Lead Dev at Balabit/OneIdentity\n"
     ]
    },
    {
     "data": {
      "text/plain": [
       "\u001b[36mres19\u001b[39m: \u001b[32mList\u001b[39m[\u001b[32mUnit\u001b[39m] = \u001b[33mList\u001b[39m(\u001b[32m()\u001b[39m, \u001b[32m()\u001b[39m, \u001b[32m()\u001b[39m)"
      ]
     },
     "execution_count": 20,
     "metadata": {},
     "output_type": "execute_result"
    }
   ],
   "source": [
    "for (s <- intro)\n",
    "yield {\n",
    "  println(s)\n",
    "  Thread.sleep(1000)\n",
    "}"
   ]
  },
  {
   "cell_type": "markdown",
   "metadata": {
    "slideshow": {
     "slide_type": "slide"
    }
   },
   "source": [
    "### Section 1 - Setup\n",
    "\n",
    "### Section 2 - Intro to Scala\n",
    "\n",
    "### Break\n",
    "\n",
    "### Section 3 - Intro to FP\n",
    "\n",
    "### Section 4 - Case classes & pattern matching\n"
   ]
  },
  {
   "cell_type": "markdown",
   "metadata": {
    "slideshow": {
     "slide_type": "slide"
    }
   },
   "source": [
    "## Section 1 - Setup\n",
    "\n",
    "0. Setup the environment (java8, sbt, editor, workshop project from github)\n",
    "0. Run the Scala interpreter\n",
    "0. Write some simple expressions\n"
   ]
  },
  {
   "cell_type": "markdown",
   "metadata": {
    "slideshow": {
     "slide_type": "subslide"
    }
   },
   "source": [
    "## Download sbt\n",
    "\n",
    "https://www.scala-sbt.org/\n",
    "\n",
    "## Type `sbt console`\n",
    "\n",
    "(Pro Tipp, checkout https://sdkman.io/ for unix)"
   ]
  },
  {
   "cell_type": "markdown",
   "metadata": {
    "slideshow": {
     "slide_type": "slide"
    }
   },
   "source": [
    "## Section 2 - Intro to Scala\n",
    "1. Basic language constructs\n",
    "  1. calling methods without parentesis or dot\n",
    "  1. Objects, Classes, Traits Body is the contructor\n",
    "  1. Define methods, functions\n",
    "  1. Assigning values to variables (`val`, `var`)\n",
    "  1. `if` expression\n",
    "  1. `for yield`\n",
    "2. A tour in the frequently used language features\n"
   ]
  },
  {
   "cell_type": "code",
   "execution_count": 23,
   "metadata": {
    "slideshow": {
     "slide_type": "subslide"
    }
   },
   "outputs": [
    {
     "data": {
      "text/plain": [
       "defined \u001b[32mobject\u001b[39m \u001b[36mHelloWorld1\u001b[39m\n",
       "defined \u001b[32mobject\u001b[39m \u001b[36mHelloWorld2\u001b[39m"
      ]
     },
     "execution_count": 23,
     "metadata": {},
     "output_type": "execute_result"
    }
   ],
   "source": [
    "object HelloWorld1 extends App {\n",
    "  println(\"Hello world!\") // Print a fine message to the user!\n",
    "}\n",
    "\n",
    "\n",
    "object HelloWorld2 {\n",
    "  def main(args: Array[String]): Unit = {\n",
    "    println(\"Hello world!\")\n",
    "  }\n",
    "}\n"
   ]
  },
  {
   "cell_type": "code",
   "execution_count": 26,
   "metadata": {
    "slideshow": {
     "slide_type": "subslide"
    }
   },
   "outputs": [
    {
     "data": {
      "text/plain": [
       "\u001b[36mres25_0\u001b[39m: \u001b[32mInt\u001b[39m = \u001b[32m2\u001b[39m\n",
       "\u001b[36mres25_1\u001b[39m: \u001b[32mInt\u001b[39m = \u001b[32m2\u001b[39m\n",
       "\u001b[36mres25_2\u001b[39m: \u001b[32mString\u001b[39m = \u001b[32m\"BALABIT\"\u001b[39m\n",
       "\u001b[36mres25_3\u001b[39m: \u001b[32mString\u001b[39m = \u001b[32m\"BALABIT\"\u001b[39m\n",
       "\u001b[36mres25_4\u001b[39m: \u001b[32mString\u001b[39m = \u001b[32m\"BALABIT\"\u001b[39m\n",
       "\u001b[36mres25_5\u001b[39m: \u001b[32mInt\u001b[39m = \u001b[32m3\u001b[39m\n",
       "\u001b[36mres25_6\u001b[39m: \u001b[32mString\u001b[39m = \u001b[32m\"abc\"\u001b[39m"
      ]
     },
     "execution_count": 26,
     "metadata": {},
     "output_type": "execute_result"
    }
   ],
   "source": [
    "1.+(1)\n",
    "\n",
    "1 + 1\n",
    "\n",
    "\"Balabit\".toUpperCase\n",
    "\"Balabit\".toUpperCase()\n",
    "\"Balabit\" toUpperCase\n",
    "\n",
    "// 2.toUpperCase\n",
    "\n",
    "// 2 / 0  // oh no! a zero division exception\n",
    "\n",
    "\"3\".toInt\n",
    "\n",
    "// \"foo\".toInt\n",
    "\n",
    "\"abcdef\".take(3)\n"
   ]
  },
  {
   "cell_type": "code",
   "execution_count": 28,
   "metadata": {
    "slideshow": {
     "slide_type": "subslide"
    }
   },
   "outputs": [
    {
     "data": {
      "text/plain": [
       "defined \u001b[32mobject\u001b[39m \u001b[36mTheMostUselessObjectEver\u001b[39m\n",
       "defined \u001b[32mobject\u001b[39m \u001b[36mSampleObject\u001b[39m"
      ]
     },
     "execution_count": 28,
     "metadata": {},
     "output_type": "execute_result"
    }
   ],
   "source": [
    "object TheMostUselessObjectEver\n",
    "\n",
    "object SampleObject {\n",
    "  val sampleField: Int = 10\n",
    "  var changeMe: String = \"OK\"\n",
    "\n",
    "  def sampleMethod(): Unit = {\n",
    "    println(\"nothing to do here\")\n",
    "  }\n",
    "\n",
    "  def add(x: Int, y: Int): Int = {\n",
    "    x + y  // no return statement required\n",
    "  }\n",
    "\n",
    "  override def toString: String = s\"My state is: $sampleField and $changeMe\"\n",
    "}\n"
   ]
  },
  {
   "cell_type": "code",
   "execution_count": 29,
   "metadata": {
    "slideshow": {
     "slide_type": "subslide"
    }
   },
   "outputs": [
    {
     "name": "stdout",
     "output_type": "stream",
     "text": [
      "10\n",
      "nothing to do here\n",
      "nothing to do here\n",
      "My state is: 10 and OK\n",
      "My state is: 10 and NOT OK\n",
      "4\n"
     ]
    }
   ],
   "source": [
    " \n",
    "/* access object methods and fields */\n",
    "\n",
    "println(SampleObject.sampleField)\n",
    "SampleObject.sampleMethod()\n",
    "SampleObject.sampleMethod\n",
    "\n",
    "println(SampleObject)\n",
    "SampleObject.changeMe = \"NOT OK\"\n",
    "println(SampleObject)\n",
    "\n",
    "println(SampleObject.add(2, 2))\n"
   ]
  },
  {
   "cell_type": "code",
   "execution_count": 30,
   "metadata": {
    "slideshow": {
     "slide_type": "subslide"
    }
   },
   "outputs": [
    {
     "data": {
      "text/plain": [
       "defined \u001b[32mobject\u001b[39m \u001b[36mSampleCallableObject\u001b[39m\n",
       "\u001b[36mres29_1\u001b[39m: \u001b[32mList\u001b[39m[\u001b[32mInt\u001b[39m] = \u001b[33mList\u001b[39m(\u001b[32m1\u001b[39m, \u001b[32m2\u001b[39m, \u001b[32m3\u001b[39m, \u001b[32m1\u001b[39m, \u001b[32m2\u001b[39m, \u001b[32m3\u001b[39m)"
      ]
     },
     "execution_count": 30,
     "metadata": {},
     "output_type": "execute_result"
    }
   ],
   "source": [
    "object SampleCallableObject  {\n",
    "  val n1: List[Int] = List(1,2,3)\n",
    "  var n2: List[Int] = List(1,2,3)\n",
    "\n",
    "  def apply(): List[Int] = {\n",
    "    n1 ++ n2\n",
    "  }\n",
    "}\n",
    "\n",
    "SampleCallableObject()"
   ]
  },
  {
   "cell_type": "code",
   "execution_count": 34,
   "metadata": {
    "slideshow": {
     "slide_type": "subslide"
    }
   },
   "outputs": [
    {
     "data": {
      "text/plain": [
       "defined \u001b[32mclass\u001b[39m \u001b[36mExampleClass\u001b[39m\n",
       "defined \u001b[32mclass\u001b[39m \u001b[36mExample2Class\u001b[39m\n",
       "\u001b[36me\u001b[39m: \u001b[32mwrapper\u001b[39m.\u001b[32mwrapper\u001b[39m.\u001b[32mExample2Class\u001b[39m = $sess.cmd33Wrapper$Helper$Example2Class@70d4f9e2\n",
       "\u001b[36mres33_3\u001b[39m: \u001b[32mString\u001b[39m = \u001b[32m\"bar\"\u001b[39m"
      ]
     },
     "execution_count": 34,
     "metadata": {},
     "output_type": "execute_result"
    }
   ],
   "source": [
    "class ExampleClass\n",
    "\n",
    "class Example2Class () {\n",
    "  def foo = \"bar\"\n",
    "  val baz = \"yol\"\n",
    "  var p = \"one\"\n",
    "}\n",
    "\n",
    "val e = new Example2Class\n",
    "e.foo"
   ]
  },
  {
   "cell_type": "code",
   "execution_count": 37,
   "metadata": {
    "slideshow": {
     "slide_type": "subslide"
    }
   },
   "outputs": [
    {
     "data": {
      "text/plain": [
       "defined \u001b[32mclass\u001b[39m \u001b[36mDirector\u001b[39m"
      ]
     },
     "execution_count": 37,
     "metadata": {},
     "output_type": "execute_result"
    }
   ],
   "source": [
    "class Director(val firstName: String,\n",
    "               val lastName: String,\n",
    "               val yearOfBirth: Int) {\n",
    "\n",
    "  def name: String =\n",
    "    s\"$firstName $lastName\"\n",
    "\n",
    "  def copy(\n",
    "            firstName: String = this.firstName,\n",
    "            lastName: String = this.lastName,\n",
    "            yearOfBirth: Int = this.yearOfBirth): Director =\n",
    "    new Director(firstName, lastName, yearOfBirth)\n",
    "}"
   ]
  },
  {
   "cell_type": "code",
   "execution_count": 38,
   "metadata": {
    "slideshow": {
     "slide_type": "subslide"
    }
   },
   "outputs": [
    {
     "data": {
      "text/plain": [
       "defined \u001b[32mclass\u001b[39m \u001b[36mFilm\u001b[39m"
      ]
     },
     "execution_count": 38,
     "metadata": {},
     "output_type": "execute_result"
    }
   ],
   "source": [
    "class Film(\n",
    "            val name: String,\n",
    "            val yearOfRelease: Int,\n",
    "            val imdbRating: Double,\n",
    "            val director: Director) {\n",
    "  def directorsAge =\n",
    "    yearOfRelease - director.yearOfBirth\n",
    "\n",
    "  def isDirectedBy(director: Director) =\n",
    "    this.director == director\n",
    "\n",
    "  def copy(\n",
    "            name: String = this.name,\n",
    "            yearOfRelease: Int = this.yearOfRelease,\n",
    "            imdbRating: Double = this.imdbRating,\n",
    "            director: Director = this.director): Film =\n",
    "    new Film(name, yearOfRelease, imdbRating, director)\n",
    "}"
   ]
  },
  {
   "cell_type": "code",
   "execution_count": 39,
   "metadata": {
    "slideshow": {
     "slide_type": "subslide"
    }
   },
   "outputs": [
    {
     "data": {
      "text/plain": [
       "\u001b[36meastwood\u001b[39m: \u001b[32mDirector\u001b[39m = $sess.cmd36Wrapper$Helper$Director@4169e961\n",
       "\u001b[36mmcTiernan\u001b[39m: \u001b[32mDirector\u001b[39m = $sess.cmd36Wrapper$Helper$Director@18995ee5\n",
       "\u001b[36mnolan\u001b[39m: \u001b[32mDirector\u001b[39m = $sess.cmd36Wrapper$Helper$Director@b7bc4da\n",
       "\u001b[36msomeBody\u001b[39m: \u001b[32mDirector\u001b[39m = $sess.cmd36Wrapper$Helper$Director@3afb0bd0\n",
       "\u001b[36mmemento\u001b[39m: \u001b[32mFilm\u001b[39m = $sess.cmd37Wrapper$Helper$Film@114c5aa0\n",
       "\u001b[36mdarkKnight\u001b[39m: \u001b[32mFilm\u001b[39m = $sess.cmd37Wrapper$Helper$Film@4273350f\n",
       "\u001b[36minception\u001b[39m: \u001b[32mFilm\u001b[39m = $sess.cmd37Wrapper$Helper$Film@7b0f30b5\n",
       "\u001b[36mhighPlainsDrifter\u001b[39m: \u001b[32mFilm\u001b[39m = $sess.cmd37Wrapper$Helper$Film@323a7079\n",
       "\u001b[36moutlawJoseyWales\u001b[39m: \u001b[32mFilm\u001b[39m = $sess.cmd37Wrapper$Helper$Film@4b51762d\n",
       "\u001b[36munforgiven\u001b[39m: \u001b[32mFilm\u001b[39m = $sess.cmd37Wrapper$Helper$Film@7297967a\n",
       "\u001b[36mgranTorino\u001b[39m: \u001b[32mFilm\u001b[39m = $sess.cmd37Wrapper$Helper$Film@3b4f7a06\n",
       "\u001b[36minvictus\u001b[39m: \u001b[32mFilm\u001b[39m = $sess.cmd37Wrapper$Helper$Film@63088f9c\n",
       "\u001b[36mpredator\u001b[39m: \u001b[32mFilm\u001b[39m = $sess.cmd37Wrapper$Helper$Film@12e65745\n",
       "\u001b[36mdieHard\u001b[39m: \u001b[32mFilm\u001b[39m = $sess.cmd37Wrapper$Helper$Film@6ea9396d\n",
       "\u001b[36mhuntForRedOctober\u001b[39m: \u001b[32mFilm\u001b[39m = $sess.cmd37Wrapper$Helper$Film@36ff5abc\n",
       "\u001b[36mthomasCrownAffair\u001b[39m: \u001b[32mFilm\u001b[39m = $sess.cmd37Wrapper$Helper$Film@110c5417\n",
       "\u001b[36ml\u001b[39m: \u001b[32mFilm\u001b[39m = $sess.cmd37Wrapper$Helper$Film@4765f331\n",
       "\u001b[36ml1\u001b[39m: \u001b[32mFilm\u001b[39m = $sess.cmd37Wrapper$Helper$Film@4613719c\n",
       "\u001b[36ml2\u001b[39m: \u001b[32mFilm\u001b[39m = $sess.cmd37Wrapper$Helper$Film@f810494"
      ]
     },
     "execution_count": 39,
     "metadata": {},
     "output_type": "execute_result"
    }
   ],
   "source": [
    "  val eastwood = new Director(\"Clint\", \"Eastwood\", 1930)\n",
    "  val mcTiernan = new Director(\"John\", \"McTiernan\", 1951)\n",
    "  val nolan = new Director(\"Christopher\", \"Nolan\", 1970)\n",
    "  val someBody = new Director(\"Just\", \"Some Body\", 1990)\n",
    "  val memento = new Film(\"Memento\", 2000, 8.5, nolan)\n",
    "  val darkKnight = new Film(\"Dark Knight\", 2008, 9.0, nolan)\n",
    "  val inception = new Film(\"Inception\", 2010, 8.8, nolan)\n",
    "  val highPlainsDrifter = new Film(\"High Plains Drifter\", 1973, 7.7, eastwood)\n",
    "  val outlawJoseyWales = new Film(\"The Outlaw Josey Wales\", 1976, 7.9, eastwood)\n",
    "  val unforgiven = new Film(\"Unforgiven\", 1992, 8.3, eastwood)\n",
    "  val granTorino = new Film(\"Gran Torino\", 2008, 8.2, eastwood)\n",
    "  val invictus = new Film(\"Invictus\", 2009, 7.4, eastwood)\n",
    "  val predator = new Film(\"Predator\", 1987, 7.9, mcTiernan)\n",
    "  val dieHard = new Film(\"Die Hard\", 1988, 8.3, mcTiernan)\n",
    "  val huntForRedOctober = new Film(\"The Hunt for Red October\", 1990, 7.6, mcTiernan)\n",
    "  val thomasCrownAffair = new Film(\"The Thomas Crown Affair\", 1999, 6.8, mcTiernan)\n",
    "\n",
    "  assert(eastwood.yearOfBirth == 1930) // should be 1930\n",
    "  assert(dieHard.director.name == \"John McTiernan\") // should be \"John McTiernan\"\n",
    "  assert(!invictus.isDirectedBy(nolan)) // should be false\n",
    "\n",
    "  val l = highPlainsDrifter.copy(name = \"L'homme des hautes plaines\")\n",
    "  // returns Film(\"L'homme des hautes plaines\", 1973, 7.7, /* etc */)\n",
    "  val l1 =thomasCrownAffair.copy(yearOfRelease = 1968,\n",
    "    director = new Director(\"Norman\", \"Jewison\", 1926))\n",
    "  // returns Film(\"The Thomas Crown Affair\", 1926, /* etc */)\n",
    "\n",
    "  val l2 = inception.copy().copy().copy()\n",
    "  // returns a new copy of `inception`\n"
   ]
  },
  {
   "cell_type": "code",
   "execution_count": 41,
   "metadata": {},
   "outputs": [
    {
     "data": {
      "text/plain": [
       "defined \u001b[32mclass\u001b[39m \u001b[36mCounter\u001b[39m\n",
       "defined \u001b[32mclass\u001b[39m \u001b[36mCounterFast\u001b[39m\n",
       "defined \u001b[32mclass\u001b[39m \u001b[36mCounterFast2\u001b[39m"
      ]
     },
     "execution_count": 41,
     "metadata": {},
     "output_type": "execute_result"
    }
   ],
   "source": [
    "class Counter(val count: Int) {\n",
    "  def dec = new Counter(count - 1)\n",
    "  def inc = new Counter(count + 1)\n",
    "}\n",
    "\n",
    "\n",
    "class CounterFast(val count: Int) {\n",
    "  def dec(amount: Int = 1) = new CounterFast(count - amount)\n",
    "  def inc(amount: Int = 1) = new CounterFast(count + amount)\n",
    "}\n",
    "\n",
    "\n",
    "class CounterFast2(val count: Int) {\n",
    "  def dec: CounterFast2 = dec()\n",
    "  def inc: CounterFast2 = inc()\n",
    "  def dec(amount: Int = 1): CounterFast2 = new CounterFast2(count - amount)\n",
    "  def inc(amount: Int = 1): CounterFast2 = new CounterFast2(count + amount)\n",
    "}\n",
    "\n",
    "assert(new Counter(10).inc.dec.inc.inc.count == 12)\n",
    "assert(new CounterFast(10).inc().inc(10).count == 21)\n",
    "assert(new CounterFast2(10).inc.inc(10).count == 21)"
   ]
  },
  {
   "cell_type": "code",
   "execution_count": 42,
   "metadata": {},
   "outputs": [
    {
     "data": {
      "text/plain": [
       "defined \u001b[32mclass\u001b[39m \u001b[36mBaseClass\u001b[39m\n",
       "defined \u001b[32mclass\u001b[39m \u001b[36mChildClass\u001b[39m\n",
       "defined \u001b[32mobject\u001b[39m \u001b[36mChildObject\u001b[39m\n",
       "\u001b[36mo\u001b[39m: \u001b[32mChildClass\u001b[39m = foo bar"
      ]
     },
     "execution_count": 42,
     "metadata": {},
     "output_type": "execute_result"
    }
   ],
   "source": [
    "class BaseClass(val baseProperty: String) {\n",
    "  override def toString: String = \"basetoString\"\n",
    "}\n",
    "\n",
    "\n",
    "class ChildClass(val childProperty: String) extends BaseClass(\"foo\") {\n",
    "  override def toString: String = baseProperty + \" \" + childProperty\n",
    "}\n",
    "\n",
    "\n",
    "object ChildObject extends BaseClass(\"baz\") {\n",
    "  override def toString: String = super.toString\n",
    "}\n",
    "\n",
    "val o = new ChildClass(\"bar\")\n",
    "assert(o.toString == \"foo bar\")\n",
    "assert(ChildObject.toString == \"basetoString\")\n",
    "\n"
   ]
  },
  {
   "cell_type": "code",
   "execution_count": 43,
   "metadata": {},
   "outputs": [
    {
     "data": {
      "text/plain": [
       "defined \u001b[32mtrait\u001b[39m \u001b[36mShape\u001b[39m\n",
       "defined \u001b[32mclass\u001b[39m \u001b[36mCircle\u001b[39m\n",
       "defined \u001b[32mclass\u001b[39m \u001b[36mRectangle\u001b[39m\n",
       "\u001b[36mres42_3\u001b[39m: \u001b[32mDouble\u001b[39m = \u001b[32m3.141592653589793\u001b[39m"
      ]
     },
     "execution_count": 43,
     "metadata": {},
     "output_type": "execute_result"
    }
   ],
   "source": [
    "trait Shape {\n",
    "  def sides: Int\n",
    "  def perimeter: Double\n",
    "  def area: Double\n",
    "}\n",
    "\n",
    "class Circle(radius: Double) extends Shape {\n",
    "  val sides = 1\n",
    "  val perimeter = 2 * math.Pi * radius\n",
    "  val area = math.Pi * radius * radius\n",
    "}\n",
    "\n",
    "class Rectangle(width: Double, height: Double) extends Shape {\n",
    "  val sides = 4\n",
    "  val perimeter = 2 * width + 2 * height\n",
    "  val area = width * height\n",
    "}\n",
    "\n",
    "new Circle(1.0).area"
   ]
  },
  {
   "cell_type": "code",
   "execution_count": 44,
   "metadata": {},
   "outputs": [
    {
     "data": {
      "text/plain": [
       "defined \u001b[32mtrait\u001b[39m \u001b[36mcanDance\u001b[39m\n",
       "defined \u001b[32mtrait\u001b[39m \u001b[36mcanWalk\u001b[39m\n",
       "defined \u001b[32mtrait\u001b[39m \u001b[36mcanTalk\u001b[39m\n",
       "defined \u001b[32mtrait\u001b[39m \u001b[36mcanSing\u001b[39m"
      ]
     },
     "execution_count": 44,
     "metadata": {},
     "output_type": "execute_result"
    }
   ],
   "source": [
    "trait canDance {\n",
    "  def dance() = {\n",
    "    println(\"I'm dancing\")\n",
    "  }\n",
    "}\n",
    "\n",
    "trait canWalk {\n",
    "  var walkedSteps: Int = 0\n",
    "  def walk(steps: Int) = {\n",
    "    walkedSteps += steps\n",
    "  }\n",
    "}\n",
    "\n",
    "\n",
    "trait canTalk {\n",
    "  def talk(sentence: String): Unit = {\n",
    "    println(s\"I say: ${sentence}\")\n",
    "  }\n",
    "}\n",
    "\n",
    "trait canSing {\n",
    "  def sing(sentence: String): Unit = {\n",
    "    println(s\"I sing: ${sentence}\")\n",
    "  }\n",
    "}\n"
   ]
  },
  {
   "cell_type": "code",
   "execution_count": 45,
   "metadata": {},
   "outputs": [
    {
     "name": "stdout",
     "output_type": "stream",
     "text": [
      "I sing: I can't sing.\n"
     ]
    },
    {
     "data": {
      "text/plain": [
       "defined \u001b[32mclass\u001b[39m \u001b[36mPeople\u001b[39m\n",
       "defined \u001b[32mclass\u001b[39m \u001b[36mDancer\u001b[39m\n",
       "defined \u001b[32mclass\u001b[39m \u001b[36mSinger\u001b[39m\n",
       "defined \u001b[32mobject\u001b[39m \u001b[36mPhilCollins\u001b[39m"
      ]
     },
     "execution_count": 45,
     "metadata": {},
     "output_type": "execute_result"
    }
   ],
   "source": [
    "class People(val name: String)\n",
    "\n",
    "class Dancer(override val name: String) extends People(name) with canDance with canWalk\n",
    "\n",
    "class Singer(override val name: String) extends People(name) with canTalk with canSing\n",
    "\n",
    "object PhilCollins extends People(\"Phil Collins\") with canDance with canWalk with canTalk with canSing {\n",
    "  def justStanding = true\n",
    "  def sellingEverything = true\n",
    "}\n",
    "\n",
    "PhilCollins.walk(10)\n",
    "PhilCollins.sing(\"I can't sing.\")\n"
   ]
  },
  {
   "cell_type": "code",
   "execution_count": 48,
   "metadata": {},
   "outputs": [
    {
     "data": {
      "text/plain": [
       "defined \u001b[32mclass\u001b[39m \u001b[36mMyStringBox\u001b[39m\n",
       "defined \u001b[32mobject\u001b[39m \u001b[36mMyStringBox\u001b[39m\n",
       "\u001b[36mm1\u001b[39m: \u001b[32mMyStringBox\u001b[39m = abcd\n",
       "\u001b[36mm1Upper\u001b[39m: \u001b[32mMyStringBox\u001b[39m = ABCD"
      ]
     },
     "execution_count": 48,
     "metadata": {},
     "output_type": "execute_result"
    }
   ],
   "source": [
    "class MyStringBox(private val s: String) {\n",
    "  override val toString: String = s\n",
    "}\n",
    "\n",
    "\n",
    "object MyStringBox {\n",
    "  def toUpperCase(m: MyStringBox): MyStringBox = new MyStringBox(m.s.toUpperCase())\n",
    "\n",
    "}\n",
    "\n",
    "val m1 = new MyStringBox(\"abcd\")\n",
    "val m1Upper = MyStringBox.toUpperCase(m1) // companion objects can access private members\n",
    "\n",
    "assert(m1Upper.toString == \"ABCD\")\n"
   ]
  },
  {
   "cell_type": "code",
   "execution_count": 47,
   "metadata": {},
   "outputs": [
    {
     "name": "stdout",
     "output_type": "stream",
     "text": [
      "()\n"
     ]
    },
    {
     "data": {
      "text/plain": [
       "defined \u001b[32mtrait\u001b[39m \u001b[36mBlog\u001b[39m\n",
       "defined \u001b[32mobject\u001b[39m \u001b[36mBlog\u001b[39m\n",
       "\u001b[36mmyBlog\u001b[39m: \u001b[32mwrapper\u001b[39m.\u001b[32mwrapper\u001b[39m.\u001b[32mBlog\u001b[39m = Hello, hello!"
      ]
     },
     "execution_count": 47,
     "metadata": {},
     "output_type": "execute_result"
    }
   ],
   "source": [
    "trait Blog {\n",
    "    def showLength()\n",
    "    override def toString: String\n",
    "}\n",
    "\n",
    "object Blog {\n",
    "   def apply(article: String) : Blog = new BlogImpl(article)\n",
    "\n",
    "   private class BlogImpl(private val article:String) extends Blog {\n",
    "     def showLength() = article.length\n",
    "     override def toString: String = article\n",
    "   }\n",
    "}\n",
    "\n",
    "var myBlog = Blog(\"Hello, hello!\")  // no \"new\" keyword here?!\n",
    "println(myBlog.showLength())"
   ]
  },
  {
   "cell_type": "code",
   "execution_count": 49,
   "metadata": {},
   "outputs": [
    {
     "data": {
      "text/plain": [
       "defined \u001b[32mclass\u001b[39m \u001b[36mPerson\u001b[39m\n",
       "defined \u001b[32mclass\u001b[39m \u001b[36mMutablePerson\u001b[39m\n",
       "\u001b[36mbud\u001b[39m: \u001b[32mPerson\u001b[39m = \u001b[33mPerson\u001b[39m(\u001b[32m\"Bud\"\u001b[39m, \u001b[32m\"Spencer\"\u001b[39m)\n",
       "\u001b[36mterence\u001b[39m: \u001b[32mMutablePerson\u001b[39m = \u001b[33mMutablePerson\u001b[39m(\u001b[32m\"Zsugabubus\"\u001b[39m, \u001b[32m\"Hill\"\u001b[39m)"
      ]
     },
     "execution_count": 49,
     "metadata": {},
     "output_type": "execute_result"
    }
   ],
   "source": [
    "case class Person(firstName: String, lastName: String)\n",
    "case class MutablePerson(var firstName: String, var lastName: String)\n",
    "\n",
    "val bud = Person(\"Bud\", \"Spencer\")\n",
    "val terence = MutablePerson(\"Terence\", \"Hill\")\n",
    "\n",
    "terence.firstName = \"Zsugabubus\" // call to a mutator\n"
   ]
  },
  {
   "cell_type": "markdown",
   "metadata": {
    "slideshow": {
     "slide_type": "slide"
    }
   },
   "source": [
    "## Section 3 - Intro to FP\n",
    "0. Functional thinking\n",
    "0. Solving problems with pure functions\n"
   ]
  },
  {
   "cell_type": "code",
   "execution_count": 51,
   "metadata": {},
   "outputs": [
    {
     "name": "stdout",
     "output_type": "stream",
     "text": [
      "30\n",
      "-1\n",
      "-1\n",
      "-1\n"
     ]
    },
    {
     "data": {
      "text/plain": [
       "defined \u001b[32mfunction\u001b[39m \u001b[36mfun\u001b[39m"
      ]
     },
     "execution_count": 51,
     "metadata": {},
     "output_type": "execute_result"
    }
   ],
   "source": [
    "def fun(a: List[Int]) = a match {\n",
    "    case List(0, p, q) => p + q\n",
    "    case _ => -1\n",
    "  }\n",
    "\n",
    "println(fun(List(0, 10, 20)))\n",
    "println(fun(List(0, 1, 2, 3)))\n",
    "println(fun(List(1, 10, 20)))\n",
    "println(fun(List()))\n"
   ]
  },
  {
   "cell_type": "code",
   "execution_count": 52,
   "metadata": {},
   "outputs": [
    {
     "name": "stdout",
     "output_type": "stream",
     "text": [
      "Pisztácia\n",
      "Kávé\n",
      "Pisztácia\n"
     ]
    },
    {
     "data": {
      "text/plain": [
       "defined \u001b[32mfunction\u001b[39m \u001b[36msum\u001b[39m\n",
       "defined \u001b[32mfunction\u001b[39m \u001b[36mfun\u001b[39m"
      ]
     },
     "execution_count": 52,
     "metadata": {},
     "output_type": "execute_result"
    }
   ],
   "source": [
    "def sum(l: List[Int]): Int = l match {\n",
    "  case Nil => 0\n",
    "  case head :: tail => head + sum(tail)\n",
    "}\n",
    "\n",
    "def fun(p: Person) = p match {\n",
    "  case Person(firstName, _) if firstName == \"Bud\" => \"Rumosdió\"\n",
    "  case Person(_, lastName)  if lastName.length > 5 => \"Kávé\"\n",
    "  case _ => \"Pisztácia\"\n",
    "}\n",
    "\n",
    "println(fun(Person(\"Terence\", \"Hill\")))\n",
    "println(fun(Person(\"Nimphas\", \"Corporation\")))\n",
    "println(fun(Person(\"Bruce\", \"Lee\")))\n"
   ]
  },
  {
   "cell_type": "markdown",
   "metadata": {
    "slideshow": {
     "slide_type": "slide"
    }
   },
   "source": [
    "## Section 4 - Case classes & pattern matching\n",
    "0. Algebraic data types (case classes)\n",
    "0. Pattern matching\n"
   ]
  },
  {
   "cell_type": "code",
   "execution_count": null,
   "metadata": {},
   "outputs": [],
   "source": []
  }
 ],
 "metadata": {
  "celltoolbar": "Slideshow",
  "kernelspec": {
   "display_name": "Scala",
   "language": "scala",
   "name": "scala"
  },
  "language_info": {
   "codemirror_mode": "text/x-scala",
   "file_extension": ".scala",
   "mimetype": "text/x-scala",
   "name": "scala212",
   "nbconvert_exporter": "script",
   "pygments_lexer": "scala",
   "version": "2.12.2"
  }
 },
 "nbformat": 4,
 "nbformat_minor": 2
}
